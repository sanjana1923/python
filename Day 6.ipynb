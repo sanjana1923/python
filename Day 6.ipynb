{
 "cells": [
  {
   "cell_type": "markdown",
   "metadata": {},
   "source": [
    "## collection type\n",
    "\n",
    "1. list\n",
    "2. tuple\n",
    "3. dictionary\n"
   ]
  },
  {
   "cell_type": "code",
   "execution_count": 14,
   "metadata": {},
   "outputs": [
    {
     "name": "stdout",
     "output_type": "stream",
     "text": [
      "[12, 23, 45.6, 'abc', True, 45.6, 100]\n",
      "[12, 23, 45.6, 200, 'abc', True, 45.6, 100, 400, 500, 600]\n"
     ]
    }
   ],
   "source": [
    "#list->indexed,ordered,mutable,allows duplicate values\n",
    "list1 = [12,23,45.6,\"abc\",True]\n",
    "#Adding elements\n",
    "list1.append(45.6)\n",
    "list1.append(100)\n",
    "print(list1)\n",
    "list1.insert(3,200)\n",
    "list1.extend([400,500,600])\n",
    "print(list1)\n"
   ]
  },
  {
   "cell_type": "code",
   "execution_count": 15,
   "metadata": {},
   "outputs": [
    {
     "name": "stdout",
     "output_type": "stream",
     "text": [
      "[12, 23, 45.6, 200, 'abc', True, 45.6, 100, 400, 500]\n"
     ]
    }
   ],
   "source": [
    "del list1[-1]\n",
    "print(list1)"
   ]
  },
  {
   "cell_type": "code",
   "execution_count": 17,
   "metadata": {},
   "outputs": [
    {
     "name": "stdout",
     "output_type": "stream",
     "text": [
      "[23, 45.6, 200, 'abc', True, 45.6, 100]\n",
      "[45.6, 200, 'abc', True, 45.6, 100]\n"
     ]
    }
   ],
   "source": [
    "#remove elements = pop,remove\n",
    "del list1[-1]\n",
    "print(list1)\n",
    "#r = list1.pop(4)\n",
    "list1.remove(23)\n",
    "print(list1)"
   ]
  },
  {
   "cell_type": "code",
   "execution_count": 18,
   "metadata": {},
   "outputs": [
    {
     "name": "stdout",
     "output_type": "stream",
     "text": [
      "[45.6, 200, 'abc', True, 45.6, 100, 200]\n"
     ]
    }
   ],
   "source": [
    "list1.append(200)\n",
    "print(list1)\n"
   ]
  },
  {
   "cell_type": "code",
   "execution_count": 19,
   "metadata": {},
   "outputs": [
    {
     "data": {
      "text/plain": [
       "[200, 100, 45.6, True, 'abc', 200, 45.6]"
      ]
     },
     "execution_count": 19,
     "metadata": {},
     "output_type": "execute_result"
    }
   ],
   "source": [
    "list1.reverse()\n",
    "list1"
   ]
  },
  {
   "cell_type": "code",
   "execution_count": 20,
   "metadata": {},
   "outputs": [
    {
     "data": {
      "text/plain": [
       "0"
      ]
     },
     "execution_count": 20,
     "metadata": {},
     "output_type": "execute_result"
    }
   ],
   "source": [
    "list1.index(200)"
   ]
  },
  {
   "cell_type": "code",
   "execution_count": 25,
   "metadata": {},
   "outputs": [
    {
     "data": {
      "text/plain": [
       "[200, 100, 45.6, True, 'abc', 200, 45.6]"
      ]
     },
     "execution_count": 25,
     "metadata": {},
     "output_type": "execute_result"
    }
   ],
   "source": [
    "list2 = list1\n",
    "list2"
   ]
  },
  {
   "cell_type": "code",
   "execution_count": 27,
   "metadata": {},
   "outputs": [
    {
     "data": {
      "text/plain": [
       "[200, 100, 45.6, True, 'abc', 200, 45.6, 400, 900]"
      ]
     },
     "execution_count": 27,
     "metadata": {},
     "output_type": "execute_result"
    }
   ],
   "source": [
    "list3 = list1\n",
    "list3"
   ]
  },
  {
   "cell_type": "code",
   "execution_count": 28,
   "metadata": {},
   "outputs": [
    {
     "name": "stdout",
     "output_type": "stream",
     "text": [
      "[200, 100, 45.6, True, 'abc', 200, 45.6, 400, 900, 400, 900] [200, 100, 45.6, True, 'abc', 200, 45.6, 400, 900, 400, 900] [200, 100, 45.6, True, 'abc', 200, 45.6, 400, 900, 400, 900]\n"
     ]
    }
   ],
   "source": [
    "list1.append(400)\n",
    "list1.append(900)\n",
    "print(list1,list2,list3)"
   ]
  },
  {
   "cell_type": "code",
   "execution_count": 29,
   "metadata": {},
   "outputs": [
    {
     "data": {
      "text/plain": [
       "1"
      ]
     },
     "execution_count": 29,
     "metadata": {},
     "output_type": "execute_result"
    }
   ],
   "source": [
    "list1.count(100)"
   ]
  },
  {
   "cell_type": "markdown",
   "metadata": {},
   "source": [
    "### Accept three subjects marks of the student at run time and store values in a list\n",
    "### return total marks of a student\n"
   ]
  },
  {
   "cell_type": "code",
   "execution_count": 33,
   "metadata": {},
   "outputs": [
    {
     "name": "stdout",
     "output_type": "stream",
     "text": [
      "sub marks:45\n",
      "sub marks:45\n",
      "sub marks:45\n",
      "total marks: 135\n"
     ]
    }
   ],
   "source": [
    "a = int(input(\"sub marks:\"))\n",
    "b = int(input(\"sub marks:\"))\n",
    "c = int(input(\"sub marks:\"))\n",
    "marks = [a,b,c]\n",
    "sun = 0\n",
    "for i in marks:\n",
    "    sun += i\n",
    "print(\"total marks:\",sun)    "
   ]
  },
  {
   "cell_type": "code",
   "execution_count": 36,
   "metadata": {},
   "outputs": [
    {
     "data": {
      "text/plain": [
       "(23, 34, 100, 67)"
      ]
     },
     "execution_count": 36,
     "metadata": {},
     "output_type": "execute_result"
    }
   ],
   "source": [
    "#tuple-->indexed,ordered,allows duplicate values,immutable\n",
    "# use()\n",
    "t1 = (23,34,45,67)\n",
    "l1 = list(t1)\n",
    "l1[2] = 100\n",
    "t1 = tuple(l1)\n",
    "t1"
   ]
  },
  {
   "cell_type": "code",
   "execution_count": 43,
   "metadata": {},
   "outputs": [
    {
     "data": {
      "text/plain": [
       "{'name': 'sanjana', 'rollnumber': 49, 'course': 'cse', 'address': 'hyd'}"
      ]
     },
     "execution_count": 43,
     "metadata": {},
     "output_type": "execute_result"
    }
   ],
   "source": [
    "# dict1 = {key1:value1,key2:value2,....}\n",
    "# rules for keys:\n",
    "# 1.keys should be unique,\n",
    "# 2.keys should be immutable(numbers,strings,tuple)\n",
    "s1 = {\"name\":\"sanjana\",\"rollnumber\":49,\"course\":\"cse\"}\n",
    "# adding new entry\n",
    "s1[\"address\"] = \"hyd\"\n",
    "s1[\"name\"]#extracting values from the dictionary\n",
    "s1"
   ]
  },
  {
   "cell_type": "code",
   "execution_count": 44,
   "metadata": {},
   "outputs": [
    {
     "data": {
      "text/plain": [
       "{'name': 'sanjana', 'rollnumber': 49, 'address': 'hyd'}"
      ]
     },
     "execution_count": 44,
     "metadata": {},
     "output_type": "execute_result"
    }
   ],
   "source": [
    "del s1[\"course\"]\n",
    "s1"
   ]
  },
  {
   "cell_type": "code",
   "execution_count": 45,
   "metadata": {},
   "outputs": [
    {
     "data": {
      "text/plain": [
       "{'name': 'sanjana', 'rollnumber': 49, 'address': 'bangalore'}"
      ]
     },
     "execution_count": 45,
     "metadata": {},
     "output_type": "execute_result"
    }
   ],
   "source": [
    "#updating your dictionary\n",
    "s1[\"address\"] = \"bangalore\"\n",
    "s1"
   ]
  },
  {
   "cell_type": "code",
   "execution_count": null,
   "metadata": {},
   "outputs": [],
   "source": []
  }
 ],
 "metadata": {
  "kernelspec": {
   "display_name": "Python 3",
   "language": "python",
   "name": "python3"
  },
  "language_info": {
   "codemirror_mode": {
    "name": "ipython",
    "version": 3
   },
   "file_extension": ".py",
   "mimetype": "text/x-python",
   "name": "python",
   "nbconvert_exporter": "python",
   "pygments_lexer": "ipython3",
   "version": "3.7.4"
  }
 },
 "nbformat": 4,
 "nbformat_minor": 2
}
